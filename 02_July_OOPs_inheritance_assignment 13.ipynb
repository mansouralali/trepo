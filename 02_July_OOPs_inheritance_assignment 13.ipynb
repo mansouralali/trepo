{
 "cells": [
  {
   "cell_type": "markdown",
   "id": "25966f89",
   "metadata": {},
   "source": [
    "## 02_July_OOPs_inheritance"
   ]
  },
  {
   "cell_type": "markdown",
   "id": "a15840ab",
   "metadata": {},
   "source": [
    "#### ‎1.‎\tExplain what inheritance is in object-oriented programming and why it is used.‎"
   ]
  },
  {
   "cell_type": "markdown",
   "id": "8c690e51",
   "metadata": {},
   "source": [
    "Inheritance is a fundamental concept in object-oriented programming (OOP) that allows a new class to inherit properties and behaviors from an existing class. The existing class is often referred to as the \"base class\" or \"parent class,\" while the new class is called the \"derived class\" or \"child class.\" This mechanism promotes code reuse and establishes a hierarchical relationship among classes.\n",
    "Inheritance is useful when you want to create new classes that share attributes and behaviors with existing classes. It should be used when there's a clear \"is-a\" relationship between the new class and the existing class."
   ]
  },
  {
   "cell_type": "markdown",
   "id": "44586916",
   "metadata": {},
   "source": [
    "#### ‎2.‎\tDiscuss the concept of single inheritance and multiple inheritance, highlighting their ‎differences and advantages.‎"
   ]
  },
  {
   "cell_type": "markdown",
   "id": "f41fd89a",
   "metadata": {},
   "source": [
    "Single inheritance refers to the concept where a class can inherit attributes and methods from only one parent class. In other words, a derived class can have only one immediate base class.\n",
    "Advantages of Single Inheritance:\n",
    "\n",
    "Simplicity: Single inheritance simplifies class hierarchies, making them easier to understand and manage.\n",
    "\n",
    "Avoiding Diamond Problem: Single inheritance inherently avoids the \"diamond problem,\" a complication that can arise in multiple inheritance due to ambiguous method resolution.\n",
    "\n",
    "Clearer Code: Since there's only one parent class, it's clear where the attributes and methods of the derived class are coming from.\n",
    "\n",
    "Multiple inheritance allows a class to inherit attributes and methods from multiple parent classes. This means a derived class can have more than one immediate base class.\n",
    "\n",
    "Advantages of Multiple Inheritance:\n",
    "\n",
    "Code Reuse: Multiple inheritance enables a derived class to inherit features from multiple sources, facilitating greater code reuse.\n",
    "\n",
    "Richer Functionality: You can combine traits from different parent classes to create a more comprehensive and specialized derived class.\n",
    "\n",
    "Modeling Complex Relationships: Multiple inheritance is useful when modeling real-world situations involving multiple characteristics or behaviors.\n",
    "\n",
    "Mixins: Multiple inheritance can be used to create mixins—small, reusable components that add specific behaviors to classes.\n",
    "\n",
    "Differences\n",
    "Ambiguity: Multiple inheritance can lead to ambiguity if the same method is defined in multiple parent classes. This can result in conflicts during method resolution.\n",
    "\n",
    "Complexity: Multiple inheritance can introduce complex class hierarchies, potentially making code harder to understand and maintain.\n",
    "\n",
    "Diamond Problem: In multiple inheritance, the diamond problem occurs when a class inherits from two classes that share a common ancestor. This can lead to confusion in method resolution.\n",
    "\n",
    "Method Resolution Order (MRO): Both single and multiple inheritance have a defined order in which the methods of parent classes are resolved in the derived class. In Python, the C3 Linearization algorithm is used to determine the MRO."
   ]
  },
  {
   "cell_type": "markdown",
   "id": "03bb0939",
   "metadata": {},
   "source": [
    "#### ‎3.‎\tExplain the terms \"base class\" and \"derived class\" in the context of inheritance.‎"
   ]
  },
  {
   "cell_type": "markdown",
   "id": "95896bfb",
   "metadata": {},
   "source": [
    "Base Class (Parent Class): The class that provides the common attributes and methods to be inherited by other classes.\n",
    "Derived Class (Child Class): The class that inherits attributes and methods from a base class, and may also provide its unique attributes and methods."
   ]
  },
  {
   "cell_type": "markdown",
   "id": "b18f2dd6",
   "metadata": {},
   "source": [
    "#### ‎4.‎\tWhat is the significance of the \"protected\" access modifier in inheritance? How does it ‎differ from \"private\" and \"public\" modifiers?‎"
   ]
  },
  {
   "cell_type": "markdown",
   "id": "c65180d8",
   "metadata": {},
   "source": [
    "The \"protected\" access modifier allows class members to be accessed within the defining class and its subclasses (derived classes), but not from outside the class hierarchy. This means that only the base class and its derived classes can access and modify \"protected\" members, while other classes outside the hierarchy cannot.\n",
    "\"private\": Accessible only within the defining class.\n",
    "\"protected\": Accessible within the defining class and its derived classes.\n",
    "\"public\": Accessible from anywhere in the program."
   ]
  },
  {
   "cell_type": "markdown",
   "id": "9e5b3e2a",
   "metadata": {},
   "source": [
    "#### ‎5.‎\tWhat is the purpose of the \"super\" keyword in inheritance? Provide an example.‎"
   ]
  },
  {
   "cell_type": "markdown",
   "id": "8d5ee674",
   "metadata": {},
   "source": [
    "The \"super\" keyword in object-oriented programming is used to access and call methods or attributes from the parent (base) class within a derived class. It is particularly useful when you want to extend or override methods in the derived class while still utilizing the behavior defined in the parent class. The \"super\" keyword helps maintain the inheritance hierarchy and ensures that both the parent and derived class functionalities are used together.\n",
    "The \"super\" keyword helps ensure that the parent class's methods and attributes are utilized in the derived class. It maintains the integrity of the inheritance hierarchy and promotes code reuse. By using \"super,\" you can customize and extend the functionality of the derived class without losing the features defined in the parent class."
   ]
  },
  {
   "cell_type": "code",
   "execution_count": 13,
   "id": "838c823d",
   "metadata": {},
   "outputs": [
    {
     "name": "stdout",
     "output_type": "stream",
     "text": [
      "50\n"
     ]
    }
   ],
   "source": [
    "class Shape:\n",
    "    def __init__(self, width, height):\n",
    "        self.width = width\n",
    "        self.height = height\n",
    "\n",
    "    def area(self):\n",
    "        return self.width * self.height\n",
    "\n",
    "class Rectangle(Shape):\n",
    "    def __init__(self, width, height):\n",
    "        super().__init__(width, height)\n",
    "\n",
    "    def area(self):\n",
    "        return super().area()  # Reusing the area calculation logic from the parent class\n",
    "\n",
    "rectangle = Rectangle(5, 10)\n",
    "print(rectangle.area())  "
   ]
  },
  {
   "cell_type": "markdown",
   "id": "4caf3ff3",
   "metadata": {},
   "source": [
    "#### ‎6.‎\tCreate a base class called \"Vehicle\" with attributes like \"make\", \"model\", and \"year\". ‎Then, create a derived class called \"Car\" that inherits from \"Vehicle\" and adds an ‎attribute called \"fuel_type\". Implement appropriate methods in both classes.‎"
   ]
  },
  {
   "cell_type": "code",
   "execution_count": 14,
   "id": "4eebf937",
   "metadata": {},
   "outputs": [
    {
     "name": "stdout",
     "output_type": "stream",
     "text": [
      "2022 Toyota Camry, Fuel Type: Gasoline\n"
     ]
    }
   ],
   "source": [
    "class Vehicle:\n",
    "    def __init__(self, make, model, year):\n",
    "        self.make = make\n",
    "        self.model = model\n",
    "        self.year = year\n",
    "\n",
    "    def display_info(self):\n",
    "        return f\"{self.year} {self.make} {self.model}\"\n",
    "\n",
    "class Car(Vehicle):\n",
    "    def __init__(self, make, model, year, fuel_type):\n",
    "        super().__init__(make, model, year)\n",
    "        self.fuel_type = fuel_type\n",
    "\n",
    "    def display_info(self):\n",
    "        vehicle_info = super().display_info()\n",
    "        return f\"{vehicle_info}, Fuel Type: {self.fuel_type}\"\n",
    "\n",
    "# Create a Car instance\n",
    "car = Car(\"Toyota\", \"Camry\", 2022, \"Gasoline\")\n",
    "print(car.display_info())"
   ]
  },
  {
   "cell_type": "markdown",
   "id": "b105ce14",
   "metadata": {},
   "source": [
    "#### ‎7.‎\tCreate a base class called \"Employee\" with attributes like \"name\" and \"salary.\" Derive ‎two classes, \"Manager\" and \"Developer,\" from \"Employee.\" Add an additional attribute ‎called \"department\" for the \"Manager\" class and \"programming_language\" for the ‎‎\"Developer\" class.‎"
   ]
  },
  {
   "cell_type": "code",
   "execution_count": 17,
   "id": "6f5eb168",
   "metadata": {},
   "outputs": [
    {
     "name": "stdout",
     "output_type": "stream",
     "text": [
      "Name: Mansour, Salary: 180000, Department: IT\n",
      "Name: Ali, Salary: 170000, Programming Language: Python\n"
     ]
    }
   ],
   "source": [
    "class Employee:\n",
    "    def __init__(self, name, salary):\n",
    "        self.name = name\n",
    "        self.salary = salary\n",
    "\n",
    "class Manager(Employee):\n",
    "    def __init__(self, name, salary, department):\n",
    "        super().__init__(name, salary)\n",
    "        self.department = department\n",
    "\n",
    "    def display_info(self):\n",
    "        return f\"Name: {self.name}, Salary: {self.salary}, Department: {self.department}\"\n",
    "\n",
    "class Developer(Employee):\n",
    "    def __init__(self, name, salary, programming_language):\n",
    "        super().__init__(name, salary)\n",
    "        self.programming_language = programming_language\n",
    "\n",
    "    def display_info(self):\n",
    "        return f\"Name: {self.name}, Salary: {self.salary}, Programming Language: {self.programming_language}\"\n",
    "\n",
    "# Creating instances of Manager and Developer classes\n",
    "manager = Manager(\"Mansour\", 180000, \"IT\")\n",
    "developer = Developer(\"Ali\", 170000, \"Python\")\n",
    "\n",
    "# Displaying information using the display_info method\n",
    "print(manager.display_info())    # Output: Name: Mansour, Salary: 180000, Department: IT\n",
    "print(developer.display_info())  # Output: Name: Ali, Salary: 170000, Programming Language: Python"
   ]
  },
  {
   "cell_type": "markdown",
   "id": "3e631764",
   "metadata": {},
   "source": [
    "#### ‎8.‎\tDesign a base class called \"Shape\" with attributes like \"colour\" and \"border_width.\" ‎Create derived classes, \"Rectangle\" and \"Circle,\" that inherit from \"Shape\" and add ‎specific attributes like \"length\" and \"width\" for the \"Rectangle\" class and \"radius\" for ‎the \"Circle\" class.‎"
   ]
  },
  {
   "cell_type": "code",
   "execution_count": 18,
   "id": "439c786c",
   "metadata": {},
   "outputs": [
    {
     "name": "stdout",
     "output_type": "stream",
     "text": [
      "Shape: Rectangle, Colour: Green, Border Width: 2, Length: 10, Width: 5\n",
      "Shape: Circle, Colour: Red, Border Width: 1, Radius: 7\n"
     ]
    }
   ],
   "source": [
    "class Shape:\n",
    "    def __init__(self, colour, border_width):\n",
    "        self.colour = colour\n",
    "        self.border_width = border_width\n",
    "\n",
    "class Rectangle(Shape):\n",
    "    def __init__(self, colour, border_width, length, width):\n",
    "        super().__init__(colour, border_width)\n",
    "        self.length = length\n",
    "        self.width = width\n",
    "\n",
    "    def display_info(self):\n",
    "        return f\"Shape: Rectangle, Colour: {self.colour}, Border Width: {self.border_width}, Length: {self.length}, Width: {self.width}\"\n",
    "\n",
    "class Circle(Shape):\n",
    "    def __init__(self, colour, border_width, radius):\n",
    "        super().__init__(colour, border_width)\n",
    "        self.radius = radius\n",
    "\n",
    "    def display_info(self):\n",
    "        return f\"Shape: Circle, Colour: {self.colour}, Border Width: {self.border_width}, Radius: {self.radius}\"\n",
    "\n",
    "# Creating instances of Rectangle and Circle classes\n",
    "rectangle = Rectangle(\"Green\", 2, 10, 5)\n",
    "circle = Circle(\"Red\", 1, 7)\n",
    "\n",
    "# Displaying information using the display_info method\n",
    "print(rectangle.display_info())  # Output: Shape: Rectangle, Colour: Green, Border Width: 2, Length: 10, Width: 5\n",
    "print(circle.display_info())     # Output: Shape: Circle, Colour: Red, Border Width: 1, Radius: 7\n"
   ]
  },
  {
   "cell_type": "markdown",
   "id": "3424776b",
   "metadata": {},
   "source": [
    "#### ‎9.‎\tCreate a base class called \"Device\" with attributes like \"brand\" and \"model.\" Derive ‎two classes, \"Phone\" and \"Tablet,\" from \"Device.\" Add specific attributes like ‎‎\"screen_size\" for the \"Phone\" class and \"battery_capacity\" for the \"Tablet\" class.‎"
   ]
  },
  {
   "cell_type": "code",
   "execution_count": 19,
   "id": "d4d29f64",
   "metadata": {},
   "outputs": [
    {
     "name": "stdout",
     "output_type": "stream",
     "text": [
      "Device Type: Phone, Brand: Apple, Model: iPhone 14, Screen Size: 6.1 inches\n",
      "Device Type: Tablet, Brand: Samsung, Model: Galaxy Tab N20, Battery Capacity: 6000 mAh\n"
     ]
    }
   ],
   "source": [
    "class Device:\n",
    "    def __init__(self, brand, model):\n",
    "        self.brand = brand\n",
    "        self.model = model\n",
    "\n",
    "class Phone(Device):\n",
    "    def __init__(self, brand, model, screen_size):\n",
    "        super().__init__(brand, model)\n",
    "        self.screen_size = screen_size\n",
    "\n",
    "    def display_info(self):\n",
    "        return f\"Device Type: Phone, Brand: {self.brand}, Model: {self.model}, Screen Size: {self.screen_size}\"\n",
    "\n",
    "class Tablet(Device):\n",
    "    def __init__(self, brand, model, battery_capacity):\n",
    "        super().__init__(brand, model)\n",
    "        self.battery_capacity = battery_capacity\n",
    "\n",
    "    def display_info(self):\n",
    "        return f\"Device Type: Tablet, Brand: {self.brand}, Model: {self.model}, Battery Capacity: {self.battery_capacity}\"\n",
    "\n",
    "# Creating instances of Phone and Tablet classes\n",
    "phone = Phone(\"Apple\", \"iPhone 14\", \"6.1 inches\")\n",
    "tablet = Tablet(\"Samsung\", \"Galaxy Tab N20\", \"6000 mAh\")\n",
    "\n",
    "# Displaying information using the display_info method\n",
    "print(phone.display_info())  # Output: Device Type: Phone, Brand: Apple, Model: iPhone 14, Screen Size: 6.1 inches\n",
    "print(tablet.display_info()) # Output: Device Type: Tablet, Brand: Samsung, Model: Galaxy Tab N20, Battery Capacity: 6000 mAh\n"
   ]
  },
  {
   "cell_type": "markdown",
   "id": "ca0b5c21",
   "metadata": {},
   "source": [
    "#### ‎10.‎\tCreate a base class called \"BankAccount\" with attributes like \"account_number\" and\n",
    "##### ‎\"balance.\" Derive two classes, \"SavingsAccount\" and \"CheckingAccount,\" from‎\n",
    "##### ‎\"BankAccount.\" Add specific methods like \"calculate_interest\" for the‎\n",
    "##### ‎\"SavingsAccount\" class and \"deduct_fees\" for the \"CheckingAccount\" class.‎"
   ]
  },
  {
   "cell_type": "code",
   "execution_count": 23,
   "id": "a540671e",
   "metadata": {},
   "outputs": [
    {
     "name": "stdout",
     "output_type": "stream",
     "text": [
      "Savings Account Balance: $4100.0\n",
      "Savings Account Interest Earned: $100.0\n",
      "Checking Account Balance: $180\n",
      "Checking Account Fee Deducted: $20\n"
     ]
    }
   ],
   "source": [
    "class BankAccount:\n",
    "    def __init__(self, account_number, balance):\n",
    "        self.account_number = account_number\n",
    "        self.balance = balance\n",
    "\n",
    "class SavingsAccount(BankAccount):\n",
    "    def __init__(self, account_number, balance):\n",
    "        super().__init__(account_number, balance)\n",
    "\n",
    "    def calculate_interest(self, rate):\n",
    "        interest = self.balance * rate / 100\n",
    "        self.balance += interest\n",
    "        return interest\n",
    "\n",
    "class CheckingAccount(BankAccount):\n",
    "    def __init__(self, account_number, balance):\n",
    "        super().__init__(account_number, balance)\n",
    "\n",
    "    def deduct_fees(self, fee):\n",
    "        if self.balance >= fee:\n",
    "            self.balance -= fee\n",
    "            return fee\n",
    "        else:\n",
    "            return 0\n",
    "\n",
    "# Creating instances of SavingsAccount and CheckingAccount classes\n",
    "savings_account = SavingsAccount(\"10945\", 4000)\n",
    "checking_account = CheckingAccount(\"16789\", 200)\n",
    "\n",
    "# Calculating interest and deducting fees\n",
    "savings_interest = savings_account.calculate_interest(2.5)  # Assuming 2.5% interest rate\n",
    "checking_fee = checking_account.deduct_fees(20)  # Assuming a fee of $20\n",
    "\n",
    "# Displaying account balances and results\n",
    "print(f\"Savings Account Balance: ${savings_account.balance}\")\n",
    "print(f\"Savings Account Interest Earned: ${savings_interest}\")\n",
    "print(f\"Checking Account Balance: ${checking_account.balance}\")\n",
    "print(f\"Checking Account Fee Deducted: ${checking_fee}\")\n"
   ]
  }
 ],
 "metadata": {
  "kernelspec": {
   "display_name": "Python 3 (ipykernel)",
   "language": "python",
   "name": "python3"
  },
  "language_info": {
   "codemirror_mode": {
    "name": "ipython",
    "version": 3
   },
   "file_extension": ".py",
   "mimetype": "text/x-python",
   "name": "python",
   "nbconvert_exporter": "python",
   "pygments_lexer": "ipython3",
   "version": "3.11.3"
  }
 },
 "nbformat": 4,
 "nbformat_minor": 5
}
