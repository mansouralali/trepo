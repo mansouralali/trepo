{
 "cells": [
  {
   "cell_type": "markdown",
   "id": "ef659a3a",
   "metadata": {},
   "source": [
    "## 01_July_OOPs\n"
   ]
  },
  {
   "cell_type": "markdown",
   "id": "5a852d49",
   "metadata": {},
   "source": [
    "#### ‎1.‎\tWhat is the primary goal of Object-Oriented Programming (OOP)?‎"
   ]
  },
  {
   "cell_type": "markdown",
   "id": "7f0f5a7d",
   "metadata": {},
   "source": [
    "\n",
    "The primary goal of Object-Oriented Programming (OOP) is to model real-world entities and their interactions in a software system. OOP aims to organize code into objects, which are instances of classes. Each class represents a blueprint that defines the structure and behavior of its objects.\n",
    "\n",
    "The key principles of OOP are encapsulation, inheritance, and polymorphism"
   ]
  },
  {
   "cell_type": "markdown",
   "id": "ad2b0573",
   "metadata": {},
   "source": [
    "#### ‎2.‎\tWhat is an object in Python?‎"
   ]
  },
  {
   "cell_type": "markdown",
   "id": "95872e1c",
   "metadata": {},
   "source": [
    "\n",
    "In Python, an object is a fundamental concept representing a specific instance of a data structure or a user-defined class. Everything in Python, including simple data types like integers and strings, as well as more complex structures like lists and dictionaries, is an object."
   ]
  },
  {
   "cell_type": "markdown",
   "id": "964fb7bb",
   "metadata": {},
   "source": [
    "#### ‎3.‎\tWhat is a class in Python?‎"
   ]
  },
  {
   "cell_type": "markdown",
   "id": "216820e5",
   "metadata": {},
   "source": [
    "\n",
    "In Python, a class is a blueprint or a template that defines the structure and behavior of objects. It serves as a user-defined data type, allowing you to create objects based on its specifications. A class encapsulates data ( attributes) and functions ( methods) that operate on that data."
   ]
  },
  {
   "cell_type": "markdown",
   "id": "06fc5dd6",
   "metadata": {},
   "source": [
    "#### ‎4.‎\tWhat are attributes and methods in a class?‎"
   ]
  },
  {
   "cell_type": "markdown",
   "id": "7d0cabb6",
   "metadata": {},
   "source": [
    "\n",
    "Attributes are variables that store data associated with a class. They represent the state of the objects created from the class. These variables are defined within the class and are used to hold specific information about each object of that class. Each object created from the class has its own set of attributes, which can have different values for different instances.\n",
    "Methods are functions defined within a class that define the behavior of the objects created from the class. They operate on the class's attributes and can perform various actions or provide specific functionalities. A method can access and modify the instance attributes through the self parameter."
   ]
  },
  {
   "cell_type": "markdown",
   "id": "39a59cc9",
   "metadata": {},
   "source": [
    "#### ‎5.‎\tWhat is the difference between class variables and instance variables in Python?‎"
   ]
  },
  {
   "cell_type": "markdown",
   "id": "22025fd8",
   "metadata": {},
   "source": [
    "Class Variables:\n",
    "\n",
    "Class variables are variables that are shared among all instances (objects) of a class. They are defined at the class level, outside any method, and are accessible using the class name.\n",
    "These variables have the same value for all instances of the class, and modifying their value affects all objects created from that class.\n",
    "Class variables are usually used to store data that is common to all instances and remains constant throughout the lifetime of the class.\n",
    "You can access and modify class variables both from the class itself and from any instance of the class.\n",
    "\n",
    "Instance Variables:\n",
    "\n",
    "Instance variables are variables that belong to individual instances (objects) of a class. They are defined within the class's methods using the self keyword.\n",
    "Each instance of the class has its own set of instance variables, and they can have different values for each object.\n",
    "Instance variables represent the unique state of each object and are used to store data that varies from one instance to another.\n",
    "Since they are specific to each instance, instance variables are used to hold data that can be different for each object."
   ]
  },
  {
   "cell_type": "markdown",
   "id": "181cc7c9",
   "metadata": {},
   "source": [
    "#### ‎6.‎\tWhat is the purpose of the self parameter in Python class methods?‎"
   ]
  },
  {
   "cell_type": "markdown",
   "id": "bb544664",
   "metadata": {},
   "source": [
    "The purpose of the self parameter is to allow class methods to access and manipulate the instance attributes (instance variables) of the object. It acts as a reference to the object itself and enables you to work with its specific data. Without self, the method wouldn't know which instance's attributes to operate on, as there could be multiple instances of the class."
   ]
  },
  {
   "cell_type": "markdown",
   "id": "581e279a",
   "metadata": {},
   "source": [
    "#### ‎7.‎\tFor a library management system, you have to design the \"Book\" class with OOP ‎principles in mind. The “Book” class will have following attributes:‎\n",
    "#### a.‎\ttitle: Represents the title of the book.‎\n",
    "#### b.‎\tauthor: Represents the author(s) of the book.‎\n",
    "#### c.‎\tisbn: Represents the ISBN (International Standard Book Number) of the ‎book.‎\n",
    "#### d.‎\tpublication_year: Represents the year of publication of the book.‎\n",
    "#### e.‎\tavailable_copies: Represents the number of copies available for checkout. ‎The class will also include the following methods:‎\n",
    "##### a.‎\tcheck_out(self): Decrements the available copies by one if there are copies ‎available for checkout.‎\n",
    "##### b.‎\treturn_book(self): Increments the available copies by one when a book is ‎returned.‎\n",
    "##### c.‎\tdisplay_book_info(self): Displays the information about the book, including its ‎attributes and the number of available copies.‎\n"
   ]
  },
  {
   "cell_type": "code",
   "execution_count": 1,
   "id": "332dcbce",
   "metadata": {},
   "outputs": [
    {
     "name": "stdout",
     "output_type": "stream",
     "text": [
      "Book Information:\n",
      "Title: The Catcher in the Rye\n",
      "Author(s): J.D. Salinger\n",
      "ISBN: 978-0-316-76948-7\n",
      "Publication Year: 1951\n",
      "Available Copies: 3\n",
      "Book 'The Catcher in the Rye' checked out successfully.\n",
      "Book Information:\n",
      "Title: The Catcher in the Rye\n",
      "Author(s): J.D. Salinger\n",
      "ISBN: 978-0-316-76948-7\n",
      "Publication Year: 1951\n",
      "Available Copies: 2\n",
      "Book 'The Catcher in the Rye' checked out successfully.\n",
      "Book 'The Catcher in the Rye' checked out successfully.\n",
      "Book 'The Catcher in the Rye' returned successfully.\n",
      "Book Information:\n",
      "Title: The Catcher in the Rye\n",
      "Author(s): J.D. Salinger\n",
      "ISBN: 978-0-316-76948-7\n",
      "Publication Year: 1951\n",
      "Available Copies: 1\n"
     ]
    }
   ],
   "source": [
    "class Book:\n",
    "    def __init__(self, title, author, isbn, publication_year, available_copies):\n",
    "        self.title = title\n",
    "        self.author = author\n",
    "        self.isbn = isbn\n",
    "        self.publication_year = publication_year\n",
    "        self.available_copies = available_copies\n",
    "\n",
    "    def check_out(self):\n",
    "        if self.available_copies > 0:\n",
    "            self.available_copies -= 1\n",
    "            print(f\"Book '{self.title}' checked out successfully.\")\n",
    "        else:\n",
    "            print(f\"Sorry, no available copies of '{self.title}' for checkout.\")\n",
    "\n",
    "    def return_book(self):\n",
    "        self.available_copies += 1\n",
    "        print(f\"Book '{self.title}' returned successfully.\")\n",
    "\n",
    "    def display_book_info(self):\n",
    "        print(\"Book Information:\")\n",
    "        print(f\"Title: {self.title}\")\n",
    "        print(f\"Author(s): {self.author}\")\n",
    "        print(f\"ISBN: {self.isbn}\")\n",
    "        print(f\"Publication Year: {self.publication_year}\")\n",
    "        print(f\"Available Copies: {self.available_copies}\")\n",
    "\n",
    "\n",
    "# Usage example:\n",
    "book1 = Book(\"The Catcher in the Rye\", \"J.D. Salinger\", \"978-0-316-76948-7\", 1951, 3)\n",
    "book1.display_book_info()\n",
    "\n",
    "book1.check_out()\n",
    "book1.display_book_info()\n",
    "\n",
    "book1.check_out()\n",
    "book1.check_out()\n",
    "\n",
    "book1.return_book()\n",
    "book1.display_book_info()"
   ]
  },
  {
   "cell_type": "markdown",
   "id": "59742298",
   "metadata": {},
   "source": [
    "#### ‎8.‎\tFor a ticket booking system, you have to design the \"Ticket\" class with OOP principles ‎in mind. The “Ticket” class should have the following attributes:‎\n",
    "#### a.‎\tticket_id: Represents the unique identifier for the ticket.‎\n",
    "#### b.‎\tevent_name: Represents the name of the event.‎\n",
    "#### c.‎\tevent_date: Represents the date of the event.‎\n",
    "#### d.‎\tvenue: Represents the venue of the event.‎\n",
    "#### e.‎\tseat_number: Represents the seat number associated with the ticket.‎\n",
    "#### f.‎\tprice: Represents the price of the ticket.‎\n",
    "#### g.‎\tis_reserved: Represents the reservation status of the ticket. The class ‎also includes the following methods:‎\n",
    "##### a.‎\treserve_ticket(self): Marks the ticket as reserved if it is not already reserved.‎\n",
    "##### b.‎\tcancel_reservation(self): Cancels the reservation of the ticket if it is already ‎reserved.‎\n",
    "##### c.‎\tdisplay_ticket_info(self): Displays the information about the ticket, including its ‎attributes and reservation status.‎\n"
   ]
  },
  {
   "cell_type": "code",
   "execution_count": 2,
   "id": "25044051",
   "metadata": {},
   "outputs": [
    {
     "name": "stdout",
     "output_type": "stream",
     "text": [
      "Ticket Information:\n",
      "Ticket ID: T123\n",
      "Event Name: Concert Night\n",
      "Event Date: 2023-08-15\n",
      "Venue: City Arena\n",
      "Seat Number: A-25\n",
      "Price: 50.0\n",
      "Reservation Status: Not Reserved\n",
      "Ticket T123 for 'Concert Night' is now reserved.\n",
      "Ticket Information:\n",
      "Ticket ID: T123\n",
      "Event Name: Concert Night\n",
      "Event Date: 2023-08-15\n",
      "Venue: City Arena\n",
      "Seat Number: A-25\n",
      "Price: 50.0\n",
      "Reservation Status: Reserved\n",
      "Ticket T123 is already reserved.\n",
      "Reservation for ticket T123 has been canceled.\n",
      "Ticket Information:\n",
      "Ticket ID: T123\n",
      "Event Name: Concert Night\n",
      "Event Date: 2023-08-15\n",
      "Venue: City Arena\n",
      "Seat Number: A-25\n",
      "Price: 50.0\n",
      "Reservation Status: Not Reserved\n"
     ]
    }
   ],
   "source": [
    "class Ticket:\n",
    "    def __init__(self, ticket_id, event_name, event_date, venue, seat_number, price):\n",
    "        self.ticket_id = ticket_id\n",
    "        self.event_name = event_name\n",
    "        self.event_date = event_date\n",
    "        self.venue = venue\n",
    "        self.seat_number = seat_number\n",
    "        self.price = price\n",
    "        self.is_reserved = False\n",
    "\n",
    "    def reserve_ticket(self):\n",
    "        if not self.is_reserved:\n",
    "            self.is_reserved = True\n",
    "            print(f\"Ticket {self.ticket_id} for '{self.event_name}' is now reserved.\")\n",
    "        else:\n",
    "            print(f\"Ticket {self.ticket_id} is already reserved.\")\n",
    "\n",
    "    def cancel_reservation(self):\n",
    "        if self.is_reserved:\n",
    "            self.is_reserved = False\n",
    "            print(f\"Reservation for ticket {self.ticket_id} has been canceled.\")\n",
    "        else:\n",
    "            print(f\"Ticket {self.ticket_id} is not reserved.\")\n",
    "\n",
    "    def display_ticket_info(self):\n",
    "        print(\"Ticket Information:\")\n",
    "        print(f\"Ticket ID: {self.ticket_id}\")\n",
    "        print(f\"Event Name: {self.event_name}\")\n",
    "        print(f\"Event Date: {self.event_date}\")\n",
    "        print(f\"Venue: {self.venue}\")\n",
    "        print(f\"Seat Number: {self.seat_number}\")\n",
    "        print(f\"Price: {self.price}\")\n",
    "        print(f\"Reservation Status: {'Reserved' if self.is_reserved else 'Not Reserved'}\")\n",
    "\n",
    "\n",
    "# Usage example:\n",
    "ticket1 = Ticket(\"T123\", \"Concert Night\", \"2023-08-15\", \"City Arena\", \"A-25\", 50.00)\n",
    "ticket1.display_ticket_info()\n",
    "\n",
    "ticket1.reserve_ticket()\n",
    "ticket1.display_ticket_info()\n",
    "\n",
    "ticket1.reserve_ticket()\n",
    "\n",
    "ticket1.cancel_reservation()\n",
    "ticket1.display_ticket_info()"
   ]
  },
  {
   "cell_type": "markdown",
   "id": "e692340e",
   "metadata": {},
   "source": [
    "#### ‎9.‎\tYou are creating a shopping cart for an e-commerce website. Using OOP to model the ‎‎\"ShoppingCart\" functionality the class should contain following attributes and methods:‎\n",
    "#### a.‎\titems: Represents the list of items in the shopping cart. The class also ‎includes the following methods:‎\n",
    "#### a.‎\tadd_item(self, item): Adds an item to the shopping cart by appending it to the ‎list of items.‎\n",
    "#### b.‎\tremove_item(self, item): Removes an item from the shopping cart if it exists in ‎the list.‎\n",
    "#### c.‎\tview_cart(self): Displays the items currently present in the shopping cart.‎\n",
    "#### d.‎\tclear_cart(self): Clears all items from the shopping cart by reassigning an ‎empty list to the items attribute.‎\n"
   ]
  },
  {
   "cell_type": "code",
   "execution_count": 3,
   "id": "6ecfcec8",
   "metadata": {},
   "outputs": [
    {
     "name": "stdout",
     "output_type": "stream",
     "text": [
      "2 Shirt(s) added to the shopping cart.\n",
      "1 Shoes(s) added to the shopping cart.\n",
      "3 Hat(s) added to the shopping cart.\n",
      "Shopping Cart Contents:\n",
      "Shirt - Quantity: 2 - Price per item: $25.0\n",
      "Shoes - Quantity: 1 - Price per item: $50.0\n",
      "Hat - Quantity: 3 - Price per item: $15.0\n",
      "Total Price: $145.0\n",
      "Shoes removed from the shopping cart.\n",
      "Pants not found in the shopping cart.\n",
      "Shopping Cart Contents:\n",
      "Shirt - Quantity: 2 - Price per item: $25.0\n",
      "Hat - Quantity: 3 - Price per item: $15.0\n",
      "Total Price: $95.0\n",
      "Shopping cart cleared.\n",
      "Shopping Cart Contents:\n",
      "Total Price: $0\n"
     ]
    }
   ],
   "source": [
    "class ShoppingCart:\n",
    "    def __init__(self):\n",
    "        self.items = []\n",
    "\n",
    "    def add_item(self, item_name, price, quantity):\n",
    "        item = {\"item_name\": item_name, \"price\": price, \"quantity\": quantity}\n",
    "        self.items.append(item)\n",
    "        print(f\"{quantity} {item_name}(s) added to the shopping cart.\")\n",
    "\n",
    "    def remove_item(self, item_name):\n",
    "        for item in self.items:\n",
    "            if item[\"item_name\"] == item_name:\n",
    "                self.items.remove(item)\n",
    "                print(f\"{item_name} removed from the shopping cart.\")\n",
    "                return\n",
    "        print(f\"{item_name} not found in the shopping cart.\")\n",
    "\n",
    "    def get_total_price(self):\n",
    "        total_price = 0\n",
    "        for item in self.items:\n",
    "            total_price += item[\"price\"] * item[\"quantity\"]\n",
    "        return total_price\n",
    "\n",
    "    def display_cart(self):\n",
    "        print(\"Shopping Cart Contents:\")\n",
    "        for item in self.items:\n",
    "            print(f\"{item['item_name']} - Quantity: {item['quantity']} - Price per item: ${item['price']}\")\n",
    "\n",
    "    def clear_cart(self):\n",
    "        self.items.clear()\n",
    "        print(\"Shopping cart cleared.\")\n",
    "\n",
    "# Usage example:\n",
    "cart = ShoppingCart()\n",
    "\n",
    "cart.add_item(\"Shirt\", 25.00, 2)\n",
    "cart.add_item(\"Shoes\", 50.00, 1)\n",
    "cart.add_item(\"Hat\", 15.00, 3)\n",
    "\n",
    "cart.display_cart()\n",
    "total_price = cart.get_total_price()\n",
    "print(f\"Total Price: ${total_price}\")\n",
    "\n",
    "cart.remove_item(\"Shoes\")\n",
    "cart.remove_item(\"Pants\")  # Not in the cart\n",
    "\n",
    "cart.display_cart()\n",
    "total_price = cart.get_total_price()\n",
    "print(f\"Total Price: ${total_price}\")\n",
    "\n",
    "cart.clear_cart()\n",
    "cart.display_cart()\n",
    "total_price = cart.get_total_price()\n",
    "print(f\"Total Price: ${total_price}\")"
   ]
  },
  {
   "cell_type": "markdown",
   "id": "3b3cdae7",
   "metadata": {},
   "source": [
    "#### ‎10.‎\tImagine a school management system. You have to design the \"Student\" class using ‎OOP concepts.The “Student” class has the following attributes:‎\n",
    "#### a.‎\tname: Represents the name of the student.‎\n",
    "#### b.‎\tage: Represents the age of the student.‎\n",
    "#### c.‎\tgrade: Represents the grade or class of the student.‎\n",
    "#### d.‎\tstudent_id: Represents the unique identifier for the student.‎\n",
    "#### e.‎\tattendance: Represents the attendance record of the student. The class ‎should also include the following methods:‎\n",
    "##### a.‎\tupdate_attendance(self, date, status): Updates the attendance record of the ‎student for a given date with the provided status (e.g., present or absent).‎\n",
    "##### b.‎\tget_attendance(self): Returns the attendance record of the student.‎\n",
    "##### c.‎\tget_average_attendance(self): Calculates and returns the average attendance ‎percentage of the student based on their attendance record.‎\n"
   ]
  },
  {
   "cell_type": "code",
   "execution_count": 4,
   "id": "145a9415",
   "metadata": {},
   "outputs": [
    {
     "name": "stdout",
     "output_type": "stream",
     "text": [
      "Attendance updated for John Smith on 2023-07-30. Status: present\n",
      "Attendance updated for John Smith on 2023-07-31. Status: absent\n",
      "Attendance Record:\n",
      "2023-07-30: present\n",
      "2023-07-31: absent\n",
      "Average Attendance: 50.00%\n"
     ]
    }
   ],
   "source": [
    "class Student:\n",
    "    def __init__(self, name, age, grade, student_id):\n",
    "        self.name = name\n",
    "        self.age = age\n",
    "        self.grade = grade\n",
    "        self.student_id = student_id\n",
    "        self.attendance = {}\n",
    "\n",
    "    def update_attendance(self, date, status):\n",
    "        if status.lower() == \"present\" or status.lower() == \"absent\":\n",
    "            self.attendance[date] = status.lower()\n",
    "            print(f\"Attendance updated for {self.name} on {date}. Status: {status.lower()}\")\n",
    "        else:\n",
    "            print(\"Invalid status. Status should be 'present' or 'absent'.\")\n",
    "\n",
    "    def get_attendance(self):\n",
    "        return self.attendance\n",
    "\n",
    "    def get_average_attendance(self):\n",
    "        total_days = len(self.attendance)\n",
    "        if total_days == 0:\n",
    "            return 0.0\n",
    "        present_days = list(self.attendance.values()).count(\"present\")\n",
    "        return (present_days / total_days) * 100.0\n",
    "\n",
    "# Usage example:\n",
    "student1 = Student(\"John Smith\", 15, \"10th Grade\", \"S12345\")\n",
    "\n",
    "student1.update_attendance(\"2023-07-30\", \"present\")\n",
    "student1.update_attendance(\"2023-07-31\", \"absent\")\n",
    "\n",
    "attendance_record = student1.get_attendance()\n",
    "print(\"Attendance Record:\")\n",
    "for date, status in attendance_record.items():\n",
    "    print(f\"{date}: {status}\")\n",
    "\n",
    "average_attendance = student1.get_average_attendance()\n",
    "print(f\"Average Attendance: {average_attendance:.2f}%\")"
   ]
  },
  {
   "cell_type": "code",
   "execution_count": null,
   "id": "4ef619bd",
   "metadata": {},
   "outputs": [],
   "source": []
  }
 ],
 "metadata": {
  "kernelspec": {
   "display_name": "Python 3 (ipykernel)",
   "language": "python",
   "name": "python3"
  },
  "language_info": {
   "codemirror_mode": {
    "name": "ipython",
    "version": 3
   },
   "file_extension": ".py",
   "mimetype": "text/x-python",
   "name": "python",
   "nbconvert_exporter": "python",
   "pygments_lexer": "ipython3",
   "version": "3.11.3"
  }
 },
 "nbformat": 4,
 "nbformat_minor": 5
}
