{
 "cells": [
  {
   "cell_type": "code",
   "execution_count": 7,
   "id": "3b53c3a3",
   "metadata": {},
   "outputs": [
    {
     "name": "stdout",
     "output_type": "stream",
     "text": [
      "Gregorian Date: 2022 12 31\n"
     ]
    }
   ],
   "source": [
    "class HijriConverter:\n",
    "    def __init__(self):\n",
    "        pass\n",
    "    \n",
    "    def is_hijri_leap_year(self, year):\n",
    "        # Implement leap year logic for the Hijri calendar\n",
    "        # In the Hijri calendar, leap years are typically every 2 to 3 years\n",
    "        # This is a simplified example and doesn't cover all cases\n",
    "        return year % 3 == 2\n",
    "\n",
    "    def hijri_to_gregorian(self, hijri_year, hijri_month, hijri_day):\n",
    "        gregorian_month_lengths = [31, 28, 31, 30, 31, 30, 31, 31, 30, 31, 30, 31]\n",
    "\n",
    "        gregorian_year = 622 + (hijri_year - 1) * 32 / 33\n",
    "        gregorian_year = int(gregorian_year)\n",
    "        \n",
    "        days_in_year = 354 if not self.is_hijri_leap_year(hijri_year) else 355\n",
    "\n",
    "        days_so_far = (hijri_month - 1) * days_in_year + hijri_day\n",
    "\n",
    "        gregorian_month = 0\n",
    "        for month_length in gregorian_month_lengths:\n",
    "            if days_so_far <= month_length:\n",
    "                gregorian_month += 1\n",
    "                break\n",
    "            days_so_far -= month_length\n",
    "            gregorian_month += 1\n",
    "\n",
    "        gregorian_day = days_so_far\n",
    "\n",
    "        return gregorian_year, gregorian_month, gregorian_day\n",
    "\n",
    "# Usage\n",
    "converter = HijriConverter()\n",
    "hijri_year = 1445\n",
    "hijri_month = 2\n",
    "hijri_day = 10\n",
    "\n",
    "gregorian_year, gregorian_month, gregorian_day = converter.hijri_to_gregorian(hijri_year, hijri_month, hijri_day)\n",
    "print(\"Gregorian Date:\", gregorian_year, gregorian_month, gregorian_day)"
   ]
  },
  {
   "cell_type": "code",
   "execution_count": null,
   "id": "99b5184b",
   "metadata": {},
   "outputs": [],
   "source": []
  }
 ],
 "metadata": {
  "kernelspec": {
   "display_name": "Python 3 (ipykernel)",
   "language": "python",
   "name": "python3"
  },
  "language_info": {
   "codemirror_mode": {
    "name": "ipython",
    "version": 3
   },
   "file_extension": ".py",
   "mimetype": "text/x-python",
   "name": "python",
   "nbconvert_exporter": "python",
   "pygments_lexer": "ipython3",
   "version": "3.11.3"
  }
 },
 "nbformat": 4,
 "nbformat_minor": 5
}
