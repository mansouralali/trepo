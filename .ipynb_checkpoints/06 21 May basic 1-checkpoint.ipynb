{
 "cells": [
  {
   "cell_type": "markdown",
   "id": "93ced9b2",
   "metadata": {},
   "source": [
    "## 20 May\n",
    "## Python Basic - 1\n"
   ]
  },
  {
   "cell_type": "markdown",
   "id": "07c75939",
   "metadata": {},
   "source": [
    "#### Q.1. What are keywords in python? Using the keyword library, print all the python keywords.\n"
   ]
  },
  {
   "cell_type": "markdown",
   "id": "5468b061",
   "metadata": {},
   "source": [
    "keywords are reserved words that have special meanings and purposes within the language. These keywords cannot be used as identifiers (variable names, function names, class names, etc.) because they are already predefined and have specific functionalities.\n"
   ]
  },
  {
   "cell_type": "code",
   "execution_count": 1,
   "id": "f788bdee",
   "metadata": {},
   "outputs": [
    {
     "name": "stdout",
     "output_type": "stream",
     "text": [
      "['False', 'None', 'True', 'and', 'as', 'assert', 'async', 'await', 'break', 'class', 'continue', 'def', 'del', 'elif', 'else', 'except', 'finally', 'for', 'from', 'global', 'if', 'import', 'in', 'is', 'lambda', 'nonlocal', 'not', 'or', 'pass', 'raise', 'return', 'try', 'while', 'with', 'yield']\n"
     ]
    }
   ],
   "source": [
    "import keyword\n",
    "\n",
    "all_keywords = keyword.kwlist\n",
    "print(all_keywords)\n"
   ]
  },
  {
   "cell_type": "markdown",
   "id": "78307328",
   "metadata": {},
   "source": [
    "#### Q.2. What are the rules to create variables in python?\n"
   ]
  },
  {
   "cell_type": "markdown",
   "id": "4995bfac",
   "metadata": {},
   "source": [
    "the rules are very simple:\n",
    "-  They must start with a letter (a-z, A-Z) or an underscore (_). \n",
    "- You cannot start a variable name with a digit (0-9)\n",
    "- You cannot use Python keywords mentioned (all_keywords = keyword.kwlist)\n",
    "- \n"
   ]
  },
  {
   "cell_type": "markdown",
   "id": "a4c35fcc",
   "metadata": {},
   "source": [
    "#### Q.3. What are the standards and conventions followed for the nomenclature of variables in python to improve code readability and maintainability?\n"
   ]
  },
  {
   "cell_type": "markdown",
   "id": "c242ca54",
   "metadata": {},
   "source": [
    "In Python, variable names must adhere to certain rules and conventions. Here are the main rules for creating variables in Python:\n",
    "\n",
    "1. **Valid characters**: Variable names can include letters (both lowercase and uppercase), digits, and underscores. They must start with a letter (a-z, A-Z) or an underscore (_). You cannot start a variable name with a digit (0-9).\n",
    "\n",
    "2. **Case sensitivity**: Python is case-sensitive, which means that variables with different letter cases are considered distinct. For example, `myVariable`, `MyVariable`, and `myvariable` are all different variables.\n",
    "\n",
    "3. **Reserved keywords**: You cannot use Python keywords as variable names since they have predefined meanings in the language.\n",
    "\n",
    "4. **No spaces or special characters**: Variable names cannot contain spaces or special characters like !, @, #, $, %, etc.\n",
    "\n",
    "5. **Length**: Variable names can be of any length, but it's a good practice to keep them concise and descriptive.\n",
    "\n",
    "6. **Naming conventions**: While not enforced by the language, there are some naming conventions in Python to make code more readable. For example:\n",
    "   - Use lowercase letters for variable names (e.g., `my_variable`).\n",
    "   - Use underscores to separate words in a variable name (e.g., `student_name`, `total_score`).\n",
    "   - Avoid using single-letter variable names (except in specific cases like loops).\n",
    "   - For constants, use all uppercase letters with underscores (e.g., `PI`, `MAX_VALUE`).\n",
    "\n",
    "\n",
    "\n",
    " "
   ]
  },
  {
   "cell_type": "code",
   "execution_count": 2,
   "id": "b77fc58e",
   "metadata": {},
   "outputs": [],
   "source": [
    "# Here are some valid examples of variable names:\n",
    "\n",
    "name = \"John\"\n",
    "age = 25\n",
    "total_score = 98.5\n",
    "is_student = True"
   ]
  },
  {
   "cell_type": "markdown",
   "id": "fb231726",
   "metadata": {},
   "source": [
    "#### Q.4. What will happen if a keyword is used as a variable name?\n"
   ]
  },
  {
   "cell_type": "code",
   "execution_count": 3,
   "id": "b6cfcac0",
   "metadata": {},
   "outputs": [
    {
     "ename": "SyntaxError",
     "evalue": "invalid syntax (3272796424.py, line 3)",
     "output_type": "error",
     "traceback": [
      "\u001b[1;36m  Cell \u001b[1;32mIn[3], line 3\u001b[1;36m\u001b[0m\n\u001b[1;33m    if = 1\u001b[0m\n\u001b[1;37m       ^\u001b[0m\n\u001b[1;31mSyntaxError\u001b[0m\u001b[1;31m:\u001b[0m invalid syntax\n"
     ]
    }
   ],
   "source": [
    "# there will be error SyntaxError invalid syntax\n",
    "# example\n",
    "if = 1"
   ]
  },
  {
   "cell_type": "markdown",
   "id": "f9dced7e",
   "metadata": {},
   "source": [
    "####  Q.5. For what purpose def keyword is used?‎"
   ]
  },
  {
   "cell_type": "markdown",
   "id": "5556bfa7",
   "metadata": {},
   "source": [
    "The `def` keyword in Python is used to define functions"
   ]
  },
  {
   "cell_type": "code",
   "execution_count": 4,
   "id": "4dc31f5d",
   "metadata": {},
   "outputs": [],
   "source": [
    "def fun1():\n",
    "    pass"
   ]
  },
  {
   "cell_type": "markdown",
   "id": "db9dbc93",
   "metadata": {},
   "source": [
    "#### Q.6. What is the operation of this special character ‘\\’?‎"
   ]
  },
  {
   "cell_type": "markdown",
   "id": "07b7dbce",
   "metadata": {},
   "source": [
    "The special character '\\', known as the backslash, is used as an escape character in Python and many other programming languages. It allows you to include special characters in strings that would otherwise be difficult to represent directly. examples:\n",
    "- `\\\\` for a single backslash.\n",
    "- `\\\"` for a double quote\n",
    "- `\\t` horizontal tab.\n"
   ]
  },
  {
   "cell_type": "markdown",
   "id": "34bdd329",
   "metadata": {},
   "source": [
    "#### Q.7. Give an example of the following conditions:‎\n",
    "‎(i)‎\tHomogeneous list\n",
    "‎(ii)‎\tHeterogeneous set\n",
    "‎(iii)‎\tHomogeneous tuple\n"
   ]
  },
  {
   "cell_type": "markdown",
   "id": "23634eb6",
   "metadata": {},
   "source": [
    "#### (i)‎\tHomogeneous list"
   ]
  },
  {
   "cell_type": "markdown",
   "id": "d5e3cec8",
   "metadata": {},
   "source": [
    "A homogeneous list is a list that contains elements of the same data type. Here's an example of a homogeneous list containing integers:"
   ]
  },
  {
   "cell_type": "code",
   "execution_count": 5,
   "id": "d93b9141",
   "metadata": {},
   "outputs": [
    {
     "name": "stdout",
     "output_type": "stream",
     "text": [
      "[1, 2, 3, 4, 5]\n"
     ]
    }
   ],
   "source": [
    "homogeneous_list = [1, 2, 3, 4, 5]\n",
    "print(homogeneous_list)"
   ]
  },
  {
   "cell_type": "markdown",
   "id": "4e6fa777",
   "metadata": {},
   "source": [
    "\n",
    "#### (ii)‎\tHeterogeneous set\n",
    "\n"
   ]
  },
  {
   "cell_type": "markdown",
   "id": "cdaa10ff",
   "metadata": {},
   "source": [
    "A heterogeneous set is a set that contains elements of different data types. Here's an example of a heterogeneous set containing integers, strings, and floats:"
   ]
  },
  {
   "cell_type": "code",
   "execution_count": 6,
   "id": "c5a2bcb5",
   "metadata": {},
   "outputs": [
    {
     "name": "stdout",
     "output_type": "stream",
     "text": [
      "{1, 3.14, 'hello'}\n"
     ]
    }
   ],
   "source": [
    "heterogeneous_set = {1, \"hello\", 3.14}\n",
    "print(heterogeneous_set)"
   ]
  },
  {
   "cell_type": "markdown",
   "id": "31237353",
   "metadata": {},
   "source": [
    "#### (iii)‎\tHomogeneous tuple\n"
   ]
  },
  {
   "cell_type": "markdown",
   "id": "2cbae204",
   "metadata": {},
   "source": [
    "A homogeneous tuple is a tuple that contains elements of the same data type. Here's an example of a homogeneous tuple containing strings:"
   ]
  },
  {
   "cell_type": "code",
   "execution_count": 7,
   "id": "7a6a2070",
   "metadata": {},
   "outputs": [
    {
     "name": "stdout",
     "output_type": "stream",
     "text": [
      "('apple', 'banana', 'orange')\n"
     ]
    }
   ],
   "source": [
    "homogeneous_tuple = (\"apple\", \"banana\", \"orange\")\n",
    "print(homogeneous_tuple)"
   ]
  },
  {
   "cell_type": "markdown",
   "id": "bccb6344",
   "metadata": {},
   "source": [
    "#### Q.8.‎\tExplain the mutable and immutable data types with proper explanation & ‎examples.‎"
   ]
  },
  {
   "cell_type": "markdown",
   "id": "b9a5aed2",
   "metadata": {},
   "source": [
    "Mutable data types are those whose values can be modified after creation. This means you can change the elements or content of a mutable object without creating a new object. Lists, dictionaries, and sets are examples of mutable data types.\n",
    "\n",
    "\n",
    " "
   ]
  },
  {
   "cell_type": "code",
   "execution_count": 8,
   "id": "6d68518f",
   "metadata": {},
   "outputs": [
    {
     "name": "stdout",
     "output_type": "stream",
     "text": [
      "Original List: [1, 2, 3, 4]\n",
      "Modified List: [100, 2, 3, 4, 5]\n"
     ]
    }
   ],
   "source": [
    "mutable_list = [1, 2, 3, 4]\n",
    "print(\"Original List:\", mutable_list)\n",
    "\n",
    "# Modifying the list\n",
    "mutable_list[0] = 100\n",
    "mutable_list.append(5)\n",
    "print(\"Modified List:\", mutable_list)"
   ]
  },
  {
   "cell_type": "code",
   "execution_count": null,
   "id": "ad050484",
   "metadata": {},
   "outputs": [],
   "source": []
  },
  {
   "cell_type": "markdown",
   "id": "73f9c33c",
   "metadata": {},
   "source": [
    "Immutable data types are those whose values cannot be changed after creation. Once you create an immutable object, you cannot modify its content. Examples of immutable data types in Python include strings, tuples, and numbers (integers, floats, etc.)."
   ]
  },
  {
   "cell_type": "code",
   "execution_count": 9,
   "id": "992c61e0",
   "metadata": {},
   "outputs": [
    {
     "name": "stdout",
     "output_type": "stream",
     "text": [
      "Original String: Hello\n"
     ]
    },
    {
     "ename": "TypeError",
     "evalue": "'str' object does not support item assignment",
     "output_type": "error",
     "traceback": [
      "\u001b[1;31m---------------------------------------------------------------------------\u001b[0m",
      "\u001b[1;31mTypeError\u001b[0m                                 Traceback (most recent call last)",
      "Cell \u001b[1;32mIn[9], line 5\u001b[0m\n\u001b[0;32m      2\u001b[0m \u001b[38;5;28mprint\u001b[39m(\u001b[38;5;124m\"\u001b[39m\u001b[38;5;124mOriginal String:\u001b[39m\u001b[38;5;124m\"\u001b[39m, immutable_string)\n\u001b[0;32m      4\u001b[0m \u001b[38;5;66;03m# Attempting to modify the string (will result in an error)\u001b[39;00m\n\u001b[1;32m----> 5\u001b[0m immutable_string[\u001b[38;5;241m0\u001b[39m] \u001b[38;5;241m=\u001b[39m \u001b[38;5;124m\"\u001b[39m\u001b[38;5;124mW\u001b[39m\u001b[38;5;124m\"\u001b[39m\n",
      "\u001b[1;31mTypeError\u001b[0m: 'str' object does not support item assignment"
     ]
    }
   ],
   "source": [
    "immutable_string = \"Hello\"\n",
    "print(\"Original String:\", immutable_string)\n",
    "\n",
    "# Attempting to modify the string (will result in an error)\n",
    "immutable_string[0] = \"W\""
   ]
  },
  {
   "cell_type": "markdown",
   "id": "bbfbc905",
   "metadata": {},
   "source": [
    "#### Q.9.‎\tWrite a code to create the given structure using only for loop."
   ]
  },
  {
   "cell_type": "code",
   "execution_count": 10,
   "id": "5bd666f3",
   "metadata": {},
   "outputs": [
    {
     "name": "stdout",
     "output_type": "stream",
     "text": [
      "    *\n",
      "   ***\n",
      "  *****\n",
      " *******\n",
      "*********\n"
     ]
    }
   ],
   "source": [
    "rows = 5\n",
    "\n",
    "for i in range(1, rows + 1):\n",
    "    print(\" \" * (rows - i), end=\"\")\n",
    "    print(\"*\" * (2 * i - 1))"
   ]
  },
  {
   "cell_type": "markdown",
   "id": "1d906d35",
   "metadata": {},
   "source": [
    "#### Q.10.‎\tWrite a code to create the given structure using only while loop."
   ]
  },
  {
   "cell_type": "code",
   "execution_count": 11,
   "id": "7fb8e8c1",
   "metadata": {},
   "outputs": [
    {
     "name": "stdout",
     "output_type": "stream",
     "text": [
      "|||||||||\n",
      " |||||||\n",
      "  |||||\n",
      "   |||\n",
      "    |\n"
     ]
    }
   ],
   "source": [
    "rows = 5\n",
    "i= 1\n",
    "while i < rows+1:\n",
    "    print(\" \" * (i -1), end=\"\")\n",
    "    print(\"|\" * (2 *(rows-i) + 1))\n",
    "    i += 1"
   ]
  },
  {
   "cell_type": "code",
   "execution_count": null,
   "id": "f9f0c2fb",
   "metadata": {},
   "outputs": [],
   "source": []
  },
  {
   "cell_type": "code",
   "execution_count": null,
   "id": "efae99b8",
   "metadata": {},
   "outputs": [],
   "source": []
  }
 ],
 "metadata": {
  "kernelspec": {
   "display_name": "Python 3 (ipykernel)",
   "language": "python",
   "name": "python3"
  },
  "language_info": {
   "codemirror_mode": {
    "name": "ipython",
    "version": 3
   },
   "file_extension": ".py",
   "mimetype": "text/x-python",
   "name": "python",
   "nbconvert_exporter": "python",
   "pygments_lexer": "ipython3",
   "version": "3.11.3"
  }
 },
 "nbformat": 4,
 "nbformat_minor": 5
}
