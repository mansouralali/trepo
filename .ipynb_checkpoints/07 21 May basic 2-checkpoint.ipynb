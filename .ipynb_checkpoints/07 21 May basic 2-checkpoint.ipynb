{
 "cells": [
  {
   "cell_type": "markdown",
   "id": "e156180c",
   "metadata": {},
   "source": [
    "# ‎21 May ‎Python Basic - 2‎"
   ]
  },
  {
   "cell_type": "markdown",
   "id": "9049c4b5",
   "metadata": {},
   "source": [
    "Q.1. Create two int type variables, apply addition, subtraction, division and multiplications ‎and store the results in variables. Then print the data in the following format by calling the ‎variables:‎\n",
    "First variable is __ & second variable is __.‎\n",
    "Addition: __ + __ = __‎\n",
    "Subtraction: __ - __ = __‎\n",
    "Multiplication: __ * __ = __‎\n",
    "Division: __ / __ = __‎\n"
   ]
  },
  {
   "cell_type": "code",
   "execution_count": 7,
   "id": "be98cde6",
   "metadata": {},
   "outputs": [
    {
     "name": "stdout",
     "output_type": "stream",
     "text": [
      "First variable is 9 & second variable is 4\n",
      "Addition: 9 + 4 = 13 \n",
      "Subtraction: 9 - 4 = 5\n",
      "Multiplication: 9 * 4 = 36\n",
      "Division: 9 / 4 = 2.25\n"
     ]
    }
   ],
   "source": [
    "v1 = int (9) \n",
    "v2= int (4)\n",
    "print (\"First variable is {} & second variable is {}\".format(v1,v2))\n",
    "print (\"Addition: {} + {} = {} \".format(v1,v2,v1+v2))\n",
    "print (\"Subtraction: {} - {} = {}\".format(v1,v2,v1-v2))\n",
    "print (\"Multiplication: {} * {} = {}\".format(v1,v2,v1*v2))\n",
    "print (\"Division: {} / {} = {}\".format(v1,v2,v1/v2))\n",
    "\n"
   ]
  },
  {
   "cell_type": "markdown",
   "id": "58bed37b",
   "metadata": {},
   "source": [
    "#### Q.2. What is the difference between the following operators:‎\n",
    "‎(i)‎\t‎‘/’ & ‘//’‎\n",
    "‎(ii)‎\t‎‘**’ & ‘^’‎\n",
    "\n"
   ]
  },
  {
   "cell_type": "markdown",
   "id": "a7ae913f",
   "metadata": {},
   "source": [
    "#### ‎(i)‎\t‎‘/’ & ‘//’‎\n"
   ]
  },
  {
   "cell_type": "markdown",
   "id": "fca8ea4d",
   "metadata": {},
   "source": []
  },
  {
   "cell_type": "markdown",
   "id": "8fd48453",
   "metadata": {},
   "source": [
    "/ (Division): This operator returns the quotient of the division in float form, even if the division is exact.\n",
    " \n",
    "// (Floor Division): This operator returns the quotient of the division in integer form, discarding any fractional parts."
   ]
  },
  {
   "cell_type": "code",
   "execution_count": 6,
   "id": "e7d92608",
   "metadata": {},
   "outputs": [
    {
     "name": "stdout",
     "output_type": "stream",
     "text": [
      "9/2 = 4.5  and 9//2 = 4\n"
     ]
    }
   ],
   "source": [
    "print (\"9/2 =\", 9/2  ,\" and 9//2 =\",9//2)"
   ]
  },
  {
   "cell_type": "markdown",
   "id": "de073b6a",
   "metadata": {},
   "source": [
    "#### ‎(ii)‎\t‎‘**’ & ‘^’‎"
   ]
  },
  {
   "cell_type": "code",
   "execution_count": null,
   "id": "e0e1ca08",
   "metadata": {},
   "outputs": [],
   "source": []
  },
  {
   "cell_type": "markdown",
   "id": "632707f9",
   "metadata": {},
   "source": [
    "** (Exponentiation): This operator is used to raise a number to the power of another number.\n",
    "\n",
    " ^ (Bitwise XOR): This operator is used for bitwise exclusive or (XOR) operation. It is not used for exponentiation in Python. For each bit position in the result, the XOR operation returns 1 if exactly one of the corresponding bits of the operands is 1, and 0 otherwis   "
   ]
  },
  {
   "cell_type": "code",
   "execution_count": 7,
   "id": "c5da72ca",
   "metadata": {},
   "outputs": [
    {
     "name": "stdout",
     "output_type": "stream",
     "text": [
      "3**2= 9  and 3^2 = 1\n"
     ]
    }
   ],
   "source": [
    "print (\"3**2=\",3**2, \" and 3^2 =\", 3^2)"
   ]
  },
  {
   "cell_type": "markdown",
   "id": "ffb9d93f",
   "metadata": {},
   "source": [
    "#### Q.3.‎\tList the logical operators."
   ]
  },
  {
   "cell_type": "markdown",
   "id": "2aab9a14",
   "metadata": {},
   "source": [
    "and or not"
   ]
  },
  {
   "cell_type": "markdown",
   "id": "6467ae17",
   "metadata": {},
   "source": [
    "#### Q.4.‎\tExplain right shift operator and left shift operator with examples.‎"
   ]
  },
  {
   "cell_type": "markdown",
   "id": "6a16ff3b",
   "metadata": {},
   "source": [
    "Right Shift Operator (>>):\n",
    "The right shift operator shifts the bits of a binary representation of an integer to the right by a specified number of positions. The rightmost bits are discarded, and the leftmost positions are filled with the sign bit (the most significant bit) to preserve the sign of the number."
   ]
  },
  {
   "cell_type": "code",
   "execution_count": 8,
   "id": "afb6379d",
   "metadata": {},
   "outputs": [
    {
     "name": "stdout",
     "output_type": "stream",
     "text": [
      "6\n"
     ]
    }
   ],
   "source": [
    "x = 12  # Binary representation: 1100\n",
    "y = x >> 1  # Shifting right by 1 position\n",
    "print(y)  # Output: 6 (Binary representation: 0110)"
   ]
  },
  {
   "cell_type": "markdown",
   "id": "3b204451",
   "metadata": {},
   "source": [
    "Left Shift Operator (<<):\n",
    "The left shift operator shifts the bits of a binary representation of an integer to the left by a specified number of positions. Zeroes are filled in from the rightmost positions."
   ]
  },
  {
   "cell_type": "code",
   "execution_count": 9,
   "id": "22371387",
   "metadata": {},
   "outputs": [
    {
     "name": "stdout",
     "output_type": "stream",
     "text": [
      "20\n"
     ]
    }
   ],
   "source": [
    "x = 5  # Binary representation: 0101\n",
    "y = x << 2  # Shifting left by 2 positions\n",
    "print(y)  # Output: 20 (Binary representation: 10100)"
   ]
  },
  {
   "cell_type": "markdown",
   "id": "aa96e2c1",
   "metadata": {},
   "source": [
    "#### Q.5.‎\tCreate a list containing int type data of length 15. Then write a code to check ‎if 10 is present in the list or not.‎"
   ]
  },
  {
   "cell_type": "code",
   "execution_count": 9,
   "id": "bb9def00",
   "metadata": {},
   "outputs": [
    {
     "name": "stdout",
     "output_type": "stream",
     "text": [
      "Number 10 is present in the list.\n"
     ]
    }
   ],
   "source": [
    "# Create a list containing 15 integer elements\n",
    "my_list = [2, 5, 8, 10, 15, 20, 10, 25, 30, 35, 40, 45, 50, 55, 60]\n",
    "\n",
    "# Check if 10 is present in the list\n",
    "if 10 in my_list:\n",
    "    print(\"Number 10 is present in the list.\")\n",
    "else:\n",
    "    print(\"Number 10 is not present in the list.\")"
   ]
  },
  {
   "cell_type": "code",
   "execution_count": null,
   "id": "721f078e",
   "metadata": {},
   "outputs": [],
   "source": []
  }
 ],
 "metadata": {
  "kernelspec": {
   "display_name": "Python 3 (ipykernel)",
   "language": "python",
   "name": "python3"
  },
  "language_info": {
   "codemirror_mode": {
    "name": "ipython",
    "version": 3
   },
   "file_extension": ".py",
   "mimetype": "text/x-python",
   "name": "python",
   "nbconvert_exporter": "python",
   "pygments_lexer": "ipython3",
   "version": "3.11.3"
  }
 },
 "nbformat": 4,
 "nbformat_minor": 5
}
